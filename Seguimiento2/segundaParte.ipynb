{
 "cells": [
  {
   "cell_type": "markdown",
   "id": "824237e4",
   "metadata": {},
   "source": [
    "# Trending YouTube Video Statistics\n",
    "This repository contains a comprehensive analysis of trending YouTube video statistics using Python. The analysis includes data cleaning, exploratory data analysis (EDA), and visualization of key metrics such as views, likes, comments, and more."
   ]
  },
  {
   "cell_type": "markdown",
   "id": "94c82782",
   "metadata": {},
   "source": [
    "# lmporting libraries\n",
    "We import the necessary Python libraries for data manipulation and text analysis:\n",
    "- `pandas` for loading and handling tabular data.\n",
    "- `TfidfVectorizer` from sklearn.feature_extraction.text for converting text data into TF-IDF vectors.\n",
    "- `cosine_similarity` from sklearn.metrics.pairwise for calculating similarity between text vectors."
   ]
  },
  {
   "cell_type": "code",
   "execution_count": 1,
   "id": "7c24b667",
   "metadata": {},
   "outputs": [],
   "source": [
    "import pandas as pd\n",
    "from sklearn.feature_extraction.text import TfidfVectorizer\n",
    "from sklearn.metrics.pairwise import cosine_similarity"
   ]
  },
  {
   "cell_type": "markdown",
   "id": "151a023e",
   "metadata": {},
   "source": [
    "# Loading the data\n",
    "The dataset `MXvideos.csv` is loaded using pandas. This file contains trending YouTube video statistics for Mexico, including the video titles."
   ]
  },
  {
   "cell_type": "code",
   "execution_count": 2,
   "id": "00d3301a",
   "metadata": {},
   "outputs": [],
   "source": [
    "ruta_csv = 'MXvideos.csv'\n",
    "df = pd.read_csv(ruta_csv, encoding='latin-1')"
   ]
  },
  {
   "cell_type": "markdown",
   "id": "a5eb5c9a",
   "metadata": {},
   "source": [
    "# Selecting the \"title\" Column\n",
    "We extract the `title` column from the dataset, which contains the text of each video title. Missing values are filled with empty strings and all entries are converted to string type to ensure consistency."
   ]
  },
  {
   "cell_type": "code",
   "execution_count": 3,
   "id": "067d1834",
   "metadata": {},
   "outputs": [],
   "source": [
    "titles = df['title'].fillna('').astype(str)"
   ]
  },
  {
   "cell_type": "markdown",
   "id": "c34e969f",
   "metadata": {},
   "source": [
    "# Vectorization with TF-IDF\n",
    "The TF-IDF (Term Frequency-Inverse Document Frequency) method is applied to the video titles. This technique transforms the text data into numerical vectors that reflect the importance of each word in the context of all titles, while ignoring common Spanish stopwords."
   ]
  },
  {
   "cell_type": "code",
   "execution_count": 4,
   "id": "b8170c74",
   "metadata": {},
   "outputs": [
    {
     "name": "stdout",
     "output_type": "stream",
     "text": [
      "Requirement already satisfied: nltk in c:\\users\\ismenia guevara\\documents\\repositorios git\\practicasbigdata\\.venv\\lib\\site-packages (3.9.2)\n",
      "Requirement already satisfied: click in c:\\users\\ismenia guevara\\documents\\repositorios git\\practicasbigdata\\.venv\\lib\\site-packages (from nltk) (8.3.0)\n",
      "Requirement already satisfied: joblib in c:\\users\\ismenia guevara\\documents\\repositorios git\\practicasbigdata\\.venv\\lib\\site-packages (from nltk) (1.5.2)\n",
      "Requirement already satisfied: regex>=2021.8.3 in c:\\users\\ismenia guevara\\documents\\repositorios git\\practicasbigdata\\.venv\\lib\\site-packages (from nltk) (2025.9.18)\n",
      "Requirement already satisfied: tqdm in c:\\users\\ismenia guevara\\documents\\repositorios git\\practicasbigdata\\.venv\\lib\\site-packages (from nltk) (4.67.1)\n",
      "Requirement already satisfied: colorama in c:\\users\\ismenia guevara\\documents\\repositorios git\\practicasbigdata\\.venv\\lib\\site-packages (from click->nltk) (0.4.6)\n",
      "Note: you may need to restart the kernel to use updated packages.\n"
     ]
    },
    {
     "name": "stderr",
     "output_type": "stream",
     "text": [
      "[nltk_data] Downloading package stopwords to C:\\Users\\Ismenia\n",
      "[nltk_data]     Guevara\\AppData\\Roaming\\nltk_data...\n",
      "[nltk_data]   Package stopwords is already up-to-date!\n"
     ]
    }
   ],
   "source": [
    "%pip install nltk\n",
    "\n",
    "from nltk.corpus import stopwords\n",
    "import nltk\n",
    "nltk.download('stopwords')\n",
    "\n",
    "spanish_stopwords = stopwords.words('spanish')\n",
    "vectorizer = TfidfVectorizer(stop_words=spanish_stopwords)\n",
    "tfidf_matrix = vectorizer.fit_transform(titles)"
   ]
  },
  {
   "cell_type": "markdown",
   "id": "d7ee8dee",
   "metadata": {},
   "source": [
    "# Choosing a Reference Title\n",
    "A reference title is selected for comparison. In this example, we search for a title containing \"Imagine Dragons\"; if not found, the first title in the dataset is used. This title will be compared to all others to find the most similar ones.\n"
   ]
  },
  {
   "cell_type": "code",
   "execution_count": 5,
   "id": "35e37581",
   "metadata": {},
   "outputs": [
    {
     "name": "stdout",
     "output_type": "stream",
     "text": [
      "Título de referencia: Imagine Dragons, Khalid - Thunder / Young Dumb & Broke (Medley/Audio)\n"
     ]
    }
   ],
   "source": [
    "titulo_referencia = next((t for t in titles if \"Imagine Dragons\" in t), titles[0])\n",
    "print(\"Título de referencia:\", titulo_referencia)"
   ]
  },
  {
   "cell_type": "markdown",
   "id": "8bfed0b0",
   "metadata": {},
   "source": [
    "# Calculating Cosine Similarity\n",
    "Cosine similarity is computed between the TF-IDF vector of the reference title and the vectors of all other titles. This metric quantifies how similar two text documents are, with values ranging from 0 (no similarity) to 1 (identical).\n"
   ]
  },
  {
   "cell_type": "code",
   "execution_count": 6,
   "id": "c3518935",
   "metadata": {},
   "outputs": [],
   "source": [
    "query_vec = vectorizer.transform([titulo_referencia])\n",
    "similitudes = cosine_similarity(query_vec, tfidf_matrix).flatten()"
   ]
  },
  {
   "cell_type": "markdown",
   "id": "eee93e87",
   "metadata": {},
   "source": [
    "# Obtaining the Top 10 Most Similar Titles\n",
    "The indices of the 10 titles with the highest similarity scores (excluding the reference itself) are identified. These represent the most recommended titles based on textual similarity."
   ]
  },
  {
   "cell_type": "code",
   "execution_count": 7,
   "id": "0804f91b",
   "metadata": {},
   "outputs": [],
   "source": [
    "indices_similares = similitudes.argsort()[::-1][1:11]"
   ]
  },
  {
   "cell_type": "markdown",
   "id": "be27201e",
   "metadata": {},
   "source": [
    "# Printing the Top 10 Recommended Titles\n",
    "The 10 most similar video titles are printed, along with their similarity scores. This provides a recommendation list based on the content of the titles."
   ]
  },
  {
   "cell_type": "code",
   "execution_count": 8,
   "id": "9d8b4c82",
   "metadata": {},
   "outputs": [
    {
     "name": "stdout",
     "output_type": "stream",
     "text": [
      "Títulos más recomendados:\n",
      "- Imagine Dragons, Khalid - Thunder / Young Dumb & Broke (Medley/Audio) (Similitud: 1.000)\n",
      "- Imagine Dragons, Khalid - Thunder / Young Dumb & Broke (Similitud: 0.912)\n",
      "- Imagine Dragons, Khalid - Thunder / Young Dumb & Broke (Similitud: 0.912)\n",
      "- Imagine Dragons - Next To Me (Audio) (Similitud: 0.432)\n",
      "- Imagine Dragons - Next To Me (Audio) (Similitud: 0.432)\n",
      "- Imagine Dragons - Next To Me (Similitud: 0.375)\n",
      "- Imagine Dragons â Next To Me (Lyrics / Lyric VIdeo) (Similitud: 0.313)\n",
      "- we broke up (Similitud: 0.231)\n",
      "- Khalid - Saved (Official Video) (Similitud: 0.197)\n",
      "- Timbiriche - Medley Vaselina (En Vivo) (Similitud: 0.185)\n"
     ]
    }
   ],
   "source": [
    "print(\"Títulos más recomendados:\")\n",
    "for idx in indices_similares:\n",
    "    print(f\"- {titles[idx]} (Similitud: {similitudes[idx]:.3f})\")"
   ]
  }
 ],
 "metadata": {
  "kernelspec": {
   "display_name": ".venv",
   "language": "python",
   "name": "python3"
  },
  "language_info": {
   "codemirror_mode": {
    "name": "ipython",
    "version": 3
   },
   "file_extension": ".py",
   "mimetype": "text/x-python",
   "name": "python",
   "nbconvert_exporter": "python",
   "pygments_lexer": "ipython3",
   "version": "3.11.9"
  }
 },
 "nbformat": 4,
 "nbformat_minor": 5
}
